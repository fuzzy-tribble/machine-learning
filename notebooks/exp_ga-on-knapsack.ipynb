{
 "cells": [
  {
   "cell_type": "markdown",
   "id": "1ada1945",
   "metadata": {},
   "source": [
    "# Genetic Algorithm on Knapsack Problem"
   ]
  },
  {
   "cell_type": "code",
   "execution_count": null,
   "id": "313049f3",
   "metadata": {},
   "outputs": [],
   "source": [
    "from helpers.base_imports import export_cell\n",
    "\n",
    "from azureml.core import (\n",
    "    Workspace,\n",
    "    Experiment,\n",
    "    ScriptRunConfig,\n",
    "    Environment,\n",
    "    ComputeTarget,\n",
    "    Environment,\n",
    ")\n",
    "from azureml.core.compute import AmlCompute\n",
    "from azureml.core.compute_target import ComputeTargetException"
   ]
  },
  {
   "cell_type": "code",
   "execution_count": null,
   "id": "9a183763",
   "metadata": {},
   "outputs": [],
   "source": [
    "# Connect to workspace\n",
    "ws = Workspace.from_config()  # uses config.json in root\n",
    "print(ws.name, ws.resource_group, ws.location)"
   ]
  },
  {
   "cell_type": "code",
   "execution_count": null,
   "id": "d2ab5469",
   "metadata": {},
   "outputs": [],
   "source": [
    "# Create or attach to a compute cluster\n",
    "cluster_name = \"cpu-cluster\"\n",
    "\n",
    "try:\n",
    "    compute_target = ComputeTarget(workspace=ws, name=cluster_name)\n",
    "except ComputeTargetException:\n",
    "    compute_config = AmlCompute.provisioning_configuration(\n",
    "        vm_size=\"STANDARD_DS11_V2\", max_nodes=2\n",
    "    )\n",
    "    compute_target = ComputeTarget.create(ws, cluster_name, compute_config)\n",
    "    compute_target.wait_for_completion(show_output=True)"
   ]
  },
  {
   "cell_type": "markdown",
   "id": "6012ee23",
   "metadata": {},
   "source": [
    "## Write GA Script"
   ]
  },
  {
   "cell_type": "code",
   "execution_count": null,
   "id": "a6c7ffdd",
   "metadata": {},
   "outputs": [],
   "source": [
    "code = \"\"\"\n",
    "import random\n",
    "\n",
    "def fitness(individual, weights, values, capacity):\n",
    "    total_weight = sum(w*i for w, i in zip(weights, individual))\n",
    "    if total_weight > capacity:\n",
    "        return 0\n",
    "    return sum(v*i for v, i in zip(values, individual))\n",
    "\n",
    "def run_knapsack():\n",
    "    weights = [10, 20, 30]\n",
    "    values = [60, 100, 120]\n",
    "    capacity = 50\n",
    "    population_size = 10\n",
    "    generations = 20\n",
    "\n",
    "    population = [[random.randint(0,1) for _ in weights] for _ in range(population_size)]\n",
    "\n",
    "    for _ in range(generations):\n",
    "        scored = [(ind, fitness(ind, weights, values, capacity)) for ind in population]\n",
    "        scored.sort(key=lambda x: x[1], reverse=True)\n",
    "        parents = [ind for ind, _ in scored[:2]]\n",
    "        children = []\n",
    "\n",
    "        for _ in range(population_size):\n",
    "            crossover = [random.choice(gene_pair) for gene_pair in zip(*parents)]\n",
    "            mutation = [bit if random.random() > 0.1 else 1 - bit for bit in crossover]\n",
    "            children.append(mutation)\n",
    "\n",
    "        population = children\n",
    "\n",
    "    best = max(population, key=lambda x: fitness(x, weights, values, capacity))\n",
    "    print(\"Best:\", best, \"Value:\", fitness(best, weights, values, capacity))\n",
    "\n",
    "if __name__ == \"__main__\":\n",
    "    run_knapsack()\n",
    "\"\"\"\n",
    "with open(\"helpers/knapsack_ga.py\", \"w\") as f:\n",
    "    f.write(code)"
   ]
  },
  {
   "cell_type": "code",
   "execution_count": null,
   "id": "3c816319",
   "metadata": {},
   "outputs": [],
   "source": [
    "# save previous cell to output file"
   ]
  },
  {
   "cell_type": "markdown",
   "id": "30274cb9",
   "metadata": {},
   "source": [
    "## Submit experiment to Azure backend"
   ]
  },
  {
   "cell_type": "code",
   "execution_count": null,
   "id": "8b7f0a20",
   "metadata": {},
   "outputs": [],
   "source": [
    "env = Environment.from_conda_specification(\n",
    "    name=\"ga-env\", file_path=\"env.yml\"\n",
    ")  # or use Environment.get(workspace=ws, name=\"AzureML-sklearn-1.0-ubuntu20.04-py38-cpu\")\n",
    "\n",
    "src = ScriptRunConfig(\n",
    "    source_directory=\".\",\n",
    "    script=\"knapsack_ga.py\",\n",
    "    compute_target=compute_target,\n",
    "    environment=env,\n",
    ")\n",
    "\n",
    "experiment = Experiment(workspace=ws, name=\"knapsack-experiment\")\n",
    "run = experiment.submit(config=src)\n",
    "run.wait_for_completion(show_output=True)"
   ]
  },
  {
   "cell_type": "markdown",
   "id": "26c5be05",
   "metadata": {},
   "source": [
    "### Monitor Logs"
   ]
  },
  {
   "cell_type": "code",
   "execution_count": null,
   "id": "f4072be1",
   "metadata": {},
   "outputs": [],
   "source": [
    "print(run.get_metrics())\n",
    "run.get_file_names()  # list of output logs and results"
   ]
  }
 ],
 "metadata": {
  "language_info": {
   "name": "python"
  }
 },
 "nbformat": 4,
 "nbformat_minor": 5
}
