{
 "cells": [
  {
   "cell_type": "markdown",
   "metadata": {},
   "source": [
    "# Experiment: Support Vector Machine Classifier on iris dataset"
   ]
  },
  {
   "cell_type": "markdown",
   "metadata": {},
   "source": [
    "## ⚖️ Quick Summary\n",
    "\n",
    "**Goal:** Find the optimal decision boundary that maximizes the margin between classes.\n",
    "\n",
    "---\n",
    "\n",
    "### 🧠 Core Idea:\n",
    "- SVM finds the **hyperplane** that best separates classes with the **largest margin**.\n",
    "- Uses **support vectors** (critical boundary cases) to define the hyperplane.\n",
    "- Can use kernels to handle **nonlinear** separation.\n",
    "\n",
    "---\n",
    "\n",
    "### 🧮 Example Configuration / Hyperparams:\n",
    "- `kernel='rbf'` *(default: good for nonlinear boundaries)*\n",
    "- `C=1.0` *(regularization strength)*\n",
    "- `gamma='scale'` *(kernel coefficient)*\n",
    "\n",
    "---\n",
    "\n",
    "### 🔧 Expectations:\n",
    "\n",
    "| Aspect          | Expectation       | Notes                                                       |\n",
    "|-----------------|-------------------|-------------------------------------------------------------|\n",
    "| Accuracy        | High         | Excellent for small, clean datasets like Iris               |\n",
    "| Overfitting     | Moderate (tunable)| Controlled via `C` and kernel choice                        |\n",
    "| Training Time   | Moderate          | Slower than KNN or DTC; fast on small datasets              |\n",
    "| Interpretability| Low               | Not easily visualizable or interpretable                   |\n",
    "| Kernel Choice   | Critical          | RBF for nonlinear, linear for simpler separable cases       |\n",
    "\n",
    "---\n",
    "\n",
    "### 🔑 Characteristics:\n",
    "- Powerful for both linear and nonlinear problems.\n",
    "- Sensitive to **feature scaling**.\n",
    "- Kernel trick makes SVM flexible, but tuning is important."
   ]
  },
  {
   "cell_type": "code",
   "execution_count": 1,
   "metadata": {},
   "outputs": [],
   "source": [
    "%reload_ext autoreload\n",
    "%autoreload 2"
   ]
  },
  {
   "cell_type": "code",
   "execution_count": 2,
   "metadata": {},
   "outputs": [],
   "source": [
    "# scv specific imports\n",
    "from sklearn.preprocessing import StandardScaler\n",
    "from sklearn.svm import SVC\n",
    "from sklearn.inspection import DecisionBoundaryDisplay\n",
    "\n",
    "# experiment helper imports\n",
    "from helpers.base_imports import *"
   ]
  },
  {
   "cell_type": "markdown",
   "metadata": {},
   "source": [
    "## Setup experiment with data and model"
   ]
  },
  {
   "cell_type": "code",
   "execution_count": 3,
   "metadata": {},
   "outputs": [
    {
     "name": "stdout",
     "output_type": "stream",
     "text": [
      "Loading 'classification-experiments.csv'\n",
      "Creating experiment: 'svc-iris-linear'\n",
      "Loading 'svc-iris-linear' estimator/model/pipeline\n"
     ]
    },
    {
     "name": "stderr",
     "output_type": "stream",
     "text": [
      "/Users/yarik/vc_projects/ML/machine-learning/.venv-py31013/lib/python3.10/site-packages/sklearn/base.py:380: InconsistentVersionWarning: Trying to unpickle estimator StandardScaler from version 1.5.0 when using version 1.6.1. This might lead to breaking code or invalid results. Use at your own risk. For more info please refer to:\n",
      "https://scikit-learn.org/stable/model_persistence.html#security-maintainability-limitations\n",
      "  warnings.warn(\n",
      "/Users/yarik/vc_projects/ML/machine-learning/.venv-py31013/lib/python3.10/site-packages/sklearn/base.py:380: InconsistentVersionWarning: Trying to unpickle estimator SVC from version 1.5.0 when using version 1.6.1. This might lead to breaking code or invalid results. Use at your own risk. For more info please refer to:\n",
      "https://scikit-learn.org/stable/model_persistence.html#security-maintainability-limitations\n",
      "  warnings.warn(\n",
      "/Users/yarik/vc_projects/ML/machine-learning/.venv-py31013/lib/python3.10/site-packages/sklearn/base.py:380: InconsistentVersionWarning: Trying to unpickle estimator Pipeline from version 1.5.0 when using version 1.6.1. This might lead to breaking code or invalid results. Use at your own risk. For more info please refer to:\n",
      "https://scikit-learn.org/stable/model_persistence.html#security-maintainability-limitations\n",
      "  warnings.warn(\n"
     ]
    },
    {
     "data": {
      "text/plain": [
       "Experiment(c, svc-iris-linear, iris-20test-shuffled-v1)"
      ]
     },
     "execution_count": 3,
     "metadata": {},
     "output_type": "execute_result"
    }
   ],
   "source": [
    "exp = Experiment(\n",
    "    type=\"c\",  # classification\n",
    "    name=\"svc-iris-linear\",\n",
    "    dataset=\"iris-20test-shuffled-v1\",\n",
    ")\n",
    "exp"
   ]
  },
  {
   "cell_type": "markdown",
   "metadata": {},
   "source": [
    "Note that sklearn has svm.SVC(kernel=\"linear\", C=C) and svm.LinearSVC(C=C, max_iter=10000) for linear SVMs. The former is more flexible and can use other kernels, while the latter is optimized for linear kernels and a bit faster. For this small dataset we'll just use the former."
   ]
  },
  {
   "cell_type": "code",
   "execution_count": 4,
   "metadata": {},
   "outputs": [],
   "source": [
    "# add the steps to the pipeline\n",
    "steps = [\n",
    "    (\"scaler\", StandardScaler()),\n",
    "    (\n",
    "        \"classifier\",\n",
    "        SVC(\n",
    "            kernel=\"linear\",  # linear, poly, rbg, etc\n",
    "            gamma=\"auto\",  # kernel coefficient (1/n features)\n",
    "            C=1.0,  # regularization parameter\n",
    "            random_state=RANDOM_SEED,\n",
    "        ),\n",
    "    ),\n",
    "]\n",
    "exp.estimator = Pipeline(\n",
    "    steps=steps,\n",
    "    memory=CACHE_DIR,\n",
    ")"
   ]
  },
  {
   "cell_type": "code",
   "execution_count": 5,
   "metadata": {},
   "outputs": [
    {
     "data": {
      "text/plain": [
       "{'memory': '.cache',\n",
       " 'steps': [('scaler', StandardScaler()),\n",
       "  ('classifier', SVC(gamma='auto', kernel='linear', random_state=0))],\n",
       " 'transform_input': None,\n",
       " 'verbose': False,\n",
       " 'scaler': StandardScaler(),\n",
       " 'classifier': SVC(gamma='auto', kernel='linear', random_state=0),\n",
       " 'scaler__copy': True,\n",
       " 'scaler__with_mean': True,\n",
       " 'scaler__with_std': True,\n",
       " 'classifier__C': 1.0,\n",
       " 'classifier__break_ties': False,\n",
       " 'classifier__cache_size': 200,\n",
       " 'classifier__class_weight': None,\n",
       " 'classifier__coef0': 0.0,\n",
       " 'classifier__decision_function_shape': 'ovr',\n",
       " 'classifier__degree': 3,\n",
       " 'classifier__gamma': 'auto',\n",
       " 'classifier__kernel': 'linear',\n",
       " 'classifier__max_iter': -1,\n",
       " 'classifier__probability': False,\n",
       " 'classifier__random_state': 0,\n",
       " 'classifier__shrinking': True,\n",
       " 'classifier__tol': 0.001,\n",
       " 'classifier__verbose': False}"
      ]
     },
     "execution_count": 5,
     "metadata": {},
     "output_type": "execute_result"
    }
   ],
   "source": [
    "exp.estimator.get_params()"
   ]
  },
  {
   "cell_type": "markdown",
   "metadata": {},
   "source": [
    "Get dataset by name (eda already done in another notebook and train/test split saved so we will be working with the same data)"
   ]
  },
  {
   "cell_type": "code",
   "execution_count": 6,
   "metadata": {},
   "outputs": [
    {
     "name": "stdout",
     "output_type": "stream",
     "text": [
      "Dataset: iris-20test-shuffled-v1\n",
      "X_train shape: (120, 4)\n",
      "X_test shape: (30, 4)\n",
      "y_train shape: (120,)\n",
      "y_test shape: (30,)\n",
      "Train: 80.00% of total\n",
      "Test: 20.00% of total\n",
      "Notes: None\n",
      "Created by save_dataset() helper at 2024-07-09 12:28:10\n",
      "\n",
      "  target_names\n",
      "0       setosa\n",
      "1   versicolor\n",
      "2    virginica\n"
     ]
    },
    {
     "data": {
      "text/plain": [
       "((120, 4), (30, 4), (120, 1), (30, 1))"
      ]
     },
     "execution_count": 6,
     "metadata": {},
     "output_type": "execute_result"
    }
   ],
   "source": [
    "notes, X_train, X_test, y_train, y_test, target_names = get_dataset(exp.dataset)\n",
    "print(notes)\n",
    "print(target_names)\n",
    "X_train.shape, X_test.shape, y_train.shape, y_test.shape"
   ]
  },
  {
   "cell_type": "code",
   "execution_count": 10,
   "metadata": {},
   "outputs": [
    {
     "name": "stdout",
     "output_type": "stream",
     "text": [
      "y_train: <class 'numpy.ndarray'> (120,)\n",
      "y_test: <class 'numpy.ndarray'> (30,)\n"
     ]
    }
   ],
   "source": [
    "# Make sure both are 1D numpy arrays\n",
    "# y_train = y_train.to_numpy().ravel()\n",
    "# y_test = y_test.to_numpy().ravel()\n",
    "print(\"y_train:\", type(y_train), y_train.shape)\n",
    "print(\"y_test:\", type(y_test), y_test.shape)"
   ]
  },
  {
   "cell_type": "code",
   "execution_count": 12,
   "metadata": {},
   "outputs": [
    {
     "name": "stdout",
     "output_type": "stream",
     "text": [
      "Class 0: 39 samples\n",
      "Class 1: 37 samples\n",
      "Class 2: 44 samples\n"
     ]
    }
   ],
   "source": [
    "classes, counts = np.unique(y_train, return_counts=True)\n",
    "for label, count in zip(classes, counts):\n",
    "    print(f\"Class {label}: {count} samples\")"
   ]
  },
  {
   "cell_type": "markdown",
   "metadata": {},
   "source": [
    "SVM is biased towards majority class but classes in the train data are roughly balanced so we'll continue without any class balancing."
   ]
  },
  {
   "cell_type": "code",
   "execution_count": 13,
   "metadata": {},
   "outputs": [
    {
     "data": {
      "text/html": [
       "<div>\n",
       "<style scoped>\n",
       "    .dataframe tbody tr th:only-of-type {\n",
       "        vertical-align: middle;\n",
       "    }\n",
       "\n",
       "    .dataframe tbody tr th {\n",
       "        vertical-align: top;\n",
       "    }\n",
       "\n",
       "    .dataframe thead th {\n",
       "        text-align: right;\n",
       "    }\n",
       "</style>\n",
       "<table border=\"1\" class=\"dataframe\">\n",
       "  <thead>\n",
       "    <tr style=\"text-align: right;\">\n",
       "      <th></th>\n",
       "      <th>dataset_name</th>\n",
       "      <th>n_train_samples</th>\n",
       "      <th>n_test_samples</th>\n",
       "      <th>mean_accuracy</th>\n",
       "      <th>train_time</th>\n",
       "      <th>query_time</th>\n",
       "      <th>kfolds</th>\n",
       "      <th>confusion_matrix</th>\n",
       "      <th>classification_report</th>\n",
       "    </tr>\n",
       "    <tr>\n",
       "      <th>exp_name</th>\n",
       "      <th></th>\n",
       "      <th></th>\n",
       "      <th></th>\n",
       "      <th></th>\n",
       "      <th></th>\n",
       "      <th></th>\n",
       "      <th></th>\n",
       "      <th></th>\n",
       "      <th></th>\n",
       "    </tr>\n",
       "  </thead>\n",
       "  <tbody>\n",
       "    <tr>\n",
       "      <th>svc-iris-linear</th>\n",
       "      <td>iris-20test-shuffled-v1</td>\n",
       "      <td>120</td>\n",
       "      <td>30</td>\n",
       "      <td>NaN</td>\n",
       "      <td>NaN</td>\n",
       "      <td>NaN</td>\n",
       "      <td>NaN</td>\n",
       "      <td>NaN</td>\n",
       "      <td>NaN</td>\n",
       "    </tr>\n",
       "  </tbody>\n",
       "</table>\n",
       "</div>"
      ],
      "text/plain": [
       "                            dataset_name n_train_samples n_test_samples  \\\n",
       "exp_name                                                                  \n",
       "svc-iris-linear  iris-20test-shuffled-v1             120             30   \n",
       "\n",
       "                mean_accuracy train_time query_time kfolds confusion_matrix  \\\n",
       "exp_name                                                                      \n",
       "svc-iris-linear           NaN        NaN        NaN    NaN              NaN   \n",
       "\n",
       "                classification_report  \n",
       "exp_name                               \n",
       "svc-iris-linear                   NaN  "
      ]
     },
     "execution_count": 13,
     "metadata": {},
     "output_type": "execute_result"
    }
   ],
   "source": [
    "exp.update_param(\"n_train_samples\", X_train.shape[0])\n",
    "exp.update_param(\"n_test_samples\", X_test.shape[0])\n",
    "exp.summary_df"
   ]
  },
  {
   "cell_type": "markdown",
   "metadata": {},
   "source": [
    "## Optimize hyperparameters"
   ]
  },
  {
   "cell_type": "code",
   "execution_count": 14,
   "metadata": {},
   "outputs": [],
   "source": [
    "# add the steps to the pipeline\n",
    "steps = [\n",
    "    # NOTE: DTs don't need scaling, but we include it here for consistency when comparing to other classifiers\n",
    "    (\"scaler\", StandardScaler()),\n",
    "    (\n",
    "        \"classifier\",\n",
    "        SVC(\n",
    "            kernel=\"linear\",  # linear, poly, rbg, etc\n",
    "            gamma=\"auto\",  # kernel coefficient (1/n features)\n",
    "            C=1.0,  # regularization parameter\n",
    "            random_state=RANDOM_SEED,\n",
    "        ),\n",
    "    ),\n",
    "]\n",
    "\n",
    "exp.estimator = Pipeline(\n",
    "    steps=steps,\n",
    "    memory=CACHE_DIR,\n",
    ")"
   ]
  },
  {
   "cell_type": "code",
   "execution_count": 16,
   "metadata": {},
   "outputs": [
    {
     "name": "stdout",
     "output_type": "stream",
     "text": [
      "Best Params: {'classifier__C': 1, 'classifier__gamma': 'scale', 'classifier__kernel': 'linear'}\n",
      "Best Cross-Validation Score: 0.975\n"
     ]
    }
   ],
   "source": [
    "param_grid = {\n",
    "    \"classifier__kernel\": [\"linear\", \"rbf\", \"poly\"],\n",
    "    \"classifier__C\": [0.1, 1, 10, 100],\n",
    "    \"classifier__gamma\": [\"scale\", \"auto\", 0.1, 0.01, 0.001],\n",
    "}\n",
    "\n",
    "grid = GridSearchCV(exp.estimator, param_grid, cv=3)\n",
    "grid.fit(X_train, y_train)\n",
    "\n",
    "print(\"Best Params:\", grid.best_params_)\n",
    "print(\"Best Cross-Validation Score:\", grid.best_score_)"
   ]
  },
  {
   "cell_type": "markdown",
   "metadata": {},
   "source": [
    "Ok, it does well with a C of 1 (regularization strength) and a linear kernel."
   ]
  },
  {
   "cell_type": "code",
   "execution_count": 18,
   "metadata": {},
   "outputs": [
    {
     "data": {
      "text/plain": [
       "{'memory': '.cache',\n",
       " 'steps': [('scaler', StandardScaler()),\n",
       "  ('classifier', SVC(C=1, kernel='linear', random_state=0))],\n",
       " 'transform_input': None,\n",
       " 'verbose': False,\n",
       " 'scaler': StandardScaler(),\n",
       " 'classifier': SVC(C=1, kernel='linear', random_state=0),\n",
       " 'scaler__copy': True,\n",
       " 'scaler__with_mean': True,\n",
       " 'scaler__with_std': True,\n",
       " 'classifier__C': 1,\n",
       " 'classifier__break_ties': False,\n",
       " 'classifier__cache_size': 200,\n",
       " 'classifier__class_weight': None,\n",
       " 'classifier__coef0': 0.0,\n",
       " 'classifier__decision_function_shape': 'ovr',\n",
       " 'classifier__degree': 3,\n",
       " 'classifier__gamma': 'scale',\n",
       " 'classifier__kernel': 'linear',\n",
       " 'classifier__max_iter': -1,\n",
       " 'classifier__probability': False,\n",
       " 'classifier__random_state': 0,\n",
       " 'classifier__shrinking': True,\n",
       " 'classifier__tol': 0.001,\n",
       " 'classifier__verbose': False}"
      ]
     },
     "execution_count": 18,
     "metadata": {},
     "output_type": "execute_result"
    }
   ],
   "source": [
    "grid.best_estimator_.get_params()"
   ]
  },
  {
   "cell_type": "code",
   "execution_count": 19,
   "metadata": {},
   "outputs": [
    {
     "data": {
      "text/plain": [
       "{'memory': '.cache',\n",
       " 'steps': [('scaler', StandardScaler()),\n",
       "  ('classifier', SVC(gamma='auto', kernel='linear', random_state=0))],\n",
       " 'transform_input': None,\n",
       " 'verbose': False,\n",
       " 'scaler': StandardScaler(),\n",
       " 'classifier': SVC(gamma='auto', kernel='linear', random_state=0),\n",
       " 'scaler__copy': True,\n",
       " 'scaler__with_mean': True,\n",
       " 'scaler__with_std': True,\n",
       " 'classifier__C': 1.0,\n",
       " 'classifier__break_ties': False,\n",
       " 'classifier__cache_size': 200,\n",
       " 'classifier__class_weight': None,\n",
       " 'classifier__coef0': 0.0,\n",
       " 'classifier__decision_function_shape': 'ovr',\n",
       " 'classifier__degree': 3,\n",
       " 'classifier__gamma': 'auto',\n",
       " 'classifier__kernel': 'linear',\n",
       " 'classifier__max_iter': -1,\n",
       " 'classifier__probability': False,\n",
       " 'classifier__random_state': 0,\n",
       " 'classifier__shrinking': True,\n",
       " 'classifier__tol': 0.001,\n",
       " 'classifier__verbose': False}"
      ]
     },
     "execution_count": 19,
     "metadata": {},
     "output_type": "execute_result"
    }
   ],
   "source": [
    "my_params = {\n",
    "    \"classifier__kernel\": \"linear\",\n",
    "    \"classifier__C\": 1.0,\n",
    "    # \"classifier__gamma\": \"auto\",\n",
    "}\n",
    "exp.estimator.set_params(**my_params)\n",
    "exp.estimator.get_params()"
   ]
  },
  {
   "cell_type": "code",
   "execution_count": 20,
   "metadata": {},
   "outputs": [],
   "source": [
    "# fit on training data\n",
    "start_time = pd.Timestamp.now()\n",
    "exp.estimator.fit(X=X_train, y=y_train)\n",
    "train_time = pd.Timestamp.now() - start_time"
   ]
  },
  {
   "cell_type": "code",
   "execution_count": 21,
   "metadata": {},
   "outputs": [
    {
     "data": {
      "text/html": [
       "<div>\n",
       "<style scoped>\n",
       "    .dataframe tbody tr th:only-of-type {\n",
       "        vertical-align: middle;\n",
       "    }\n",
       "\n",
       "    .dataframe tbody tr th {\n",
       "        vertical-align: top;\n",
       "    }\n",
       "\n",
       "    .dataframe thead th {\n",
       "        text-align: right;\n",
       "    }\n",
       "</style>\n",
       "<table border=\"1\" class=\"dataframe\">\n",
       "  <thead>\n",
       "    <tr style=\"text-align: right;\">\n",
       "      <th></th>\n",
       "      <th>dataset_name</th>\n",
       "      <th>n_train_samples</th>\n",
       "      <th>n_test_samples</th>\n",
       "      <th>mean_accuracy</th>\n",
       "      <th>train_time</th>\n",
       "      <th>query_time</th>\n",
       "      <th>kfolds</th>\n",
       "      <th>confusion_matrix</th>\n",
       "      <th>classification_report</th>\n",
       "    </tr>\n",
       "    <tr>\n",
       "      <th>exp_name</th>\n",
       "      <th></th>\n",
       "      <th></th>\n",
       "      <th></th>\n",
       "      <th></th>\n",
       "      <th></th>\n",
       "      <th></th>\n",
       "      <th></th>\n",
       "      <th></th>\n",
       "      <th></th>\n",
       "    </tr>\n",
       "  </thead>\n",
       "  <tbody>\n",
       "    <tr>\n",
       "      <th>svc-iris-linear</th>\n",
       "      <td>iris-20test-shuffled-v1</td>\n",
       "      <td>120</td>\n",
       "      <td>30</td>\n",
       "      <td>0.966667</td>\n",
       "      <td>0 days 00:00:00.003818</td>\n",
       "      <td>NaN</td>\n",
       "      <td>NaN</td>\n",
       "      <td>NaN</td>\n",
       "      <td>NaN</td>\n",
       "    </tr>\n",
       "  </tbody>\n",
       "</table>\n",
       "</div>"
      ],
      "text/plain": [
       "                            dataset_name n_train_samples n_test_samples  \\\n",
       "exp_name                                                                  \n",
       "svc-iris-linear  iris-20test-shuffled-v1             120             30   \n",
       "\n",
       "                mean_accuracy              train_time query_time kfolds  \\\n",
       "exp_name                                                                  \n",
       "svc-iris-linear      0.966667  0 days 00:00:00.003818        NaN    NaN   \n",
       "\n",
       "                confusion_matrix classification_report  \n",
       "exp_name                                                \n",
       "svc-iris-linear              NaN                   NaN  "
      ]
     },
     "execution_count": 21,
     "metadata": {},
     "output_type": "execute_result"
    }
   ],
   "source": [
    "exp.update_param(\"train_time\", train_time)\n",
    "exp.update_param(\n",
    "    \"mean_accuracy\",\n",
    "    exp.estimator.score(X_test, y_test),\n",
    "    # add_column=True\n",
    ")\n",
    "exp.summary_df"
   ]
  },
  {
   "cell_type": "markdown",
   "metadata": {},
   "source": [
    "## Take a look at the trained model"
   ]
  },
  {
   "cell_type": "code",
   "execution_count": 22,
   "metadata": {},
   "outputs": [],
   "source": [
    "# get precision, recall, f1, accuracy\n",
    "start_time = pd.Timestamp.now()\n",
    "y_pred = exp.estimator.predict(X_test)\n",
    "query_time = pd.Timestamp.now() - start_time"
   ]
  },
  {
   "cell_type": "code",
   "execution_count": 23,
   "metadata": {},
   "outputs": [],
   "source": [
    "exp.update_param(\"query_time\", query_time)"
   ]
  },
  {
   "cell_type": "code",
   "execution_count": 25,
   "metadata": {},
   "outputs": [
    {
     "data": {
      "text/plain": [
       "Text(0.5, 1.0, 'Confusion Matrix')"
      ]
     },
     "execution_count": 25,
     "metadata": {},
     "output_type": "execute_result"
    },
    {
     "data": {
      "image/png": "[encoded data removed]",
      "text/plain": [
       "<Figure size 640x480 with 2 Axes>"
      ]
     },
     "metadata": {},
     "output_type": "display_data"
    }
   ],
   "source": [
    "target_names_list = target_names[\"target_names\"].tolist()\n",
    "cm = confusion_matrix(\n",
    "    y_true=y_test,\n",
    "    y_pred=y_pred,\n",
    "    # normalize=\"true\"\n",
    ")\n",
    "cmd = ConfusionMatrixDisplay(confusion_matrix=cm, display_labels=target_names_list)\n",
    "cmd.plot()\n",
    "plt.title(\"Confusion Matrix\")\n",
    "# plt.savefig(f\"{FIGS_DIR}/{exp.name}_confusion-matrix.png\")"
   ]
  },
  {
   "cell_type": "code",
   "execution_count": 26,
   "metadata": {},
   "outputs": [],
   "source": [
    "exp.update_param(\"confusion_matrix\", np.array2string(cm))"
   ]
  },
  {
   "cell_type": "code",
   "execution_count": 27,
   "metadata": {},
   "outputs": [
    {
     "data": {
      "text/plain": [
       "{'0': {'precision': 1.0, 'recall': 1.0, 'f1-score': 1.0, 'support': 11.0},\n",
       " '1': {'precision': 1.0,\n",
       "  'recall': 0.9230769230769231,\n",
       "  'f1-score': 0.96,\n",
       "  'support': 13.0},\n",
       " '2': {'precision': 0.8571428571428571,\n",
       "  'recall': 1.0,\n",
       "  'f1-score': 0.9230769230769231,\n",
       "  'support': 6.0},\n",
       " 'accuracy': 0.9666666666666667,\n",
       " 'macro avg': {'precision': 0.9523809523809524,\n",
       "  'recall': 0.9743589743589745,\n",
       "  'f1-score': 0.9610256410256411,\n",
       "  'support': 30.0},\n",
       " 'weighted avg': {'precision': 0.9714285714285714,\n",
       "  'recall': 0.9666666666666667,\n",
       "  'f1-score': 0.9672820512820512,\n",
       "  'support': 30.0}}"
      ]
     },
     "execution_count": 27,
     "metadata": {},
     "output_type": "execute_result"
    }
   ],
   "source": [
    "cr = classification_report(y_true=y_test, y_pred=y_pred, output_dict=True)\n",
    "exp.update_param(\"classification_report\", str(cr))\n",
    "cr"
   ]
  },
  {
   "cell_type": "code",
   "execution_count": 29,
   "metadata": {},
   "outputs": [
    {
     "name": "stdout",
     "output_type": "stream",
     "text": [
      "Adding column: kernel\n",
      "Adding column: C\n",
      "Adding column: gamma\n"
     ]
    },
    {
     "data": {
      "text/html": [
       "<div>\n",
       "<style scoped>\n",
       "    .dataframe tbody tr th:only-of-type {\n",
       "        vertical-align: middle;\n",
       "    }\n",
       "\n",
       "    .dataframe tbody tr th {\n",
       "        vertical-align: top;\n",
       "    }\n",
       "\n",
       "    .dataframe thead th {\n",
       "        text-align: right;\n",
       "    }\n",
       "</style>\n",
       "<table border=\"1\" class=\"dataframe\">\n",
       "  <thead>\n",
       "    <tr style=\"text-align: right;\">\n",
       "      <th></th>\n",
       "      <th>dataset_name</th>\n",
       "      <th>n_train_samples</th>\n",
       "      <th>n_test_samples</th>\n",
       "      <th>mean_accuracy</th>\n",
       "      <th>train_time</th>\n",
       "      <th>query_time</th>\n",
       "      <th>kfolds</th>\n",
       "      <th>confusion_matrix</th>\n",
       "      <th>classification_report</th>\n",
       "      <th>kernel</th>\n",
       "      <th>C</th>\n",
       "      <th>gamma</th>\n",
       "    </tr>\n",
       "    <tr>\n",
       "      <th>exp_name</th>\n",
       "      <th></th>\n",
       "      <th></th>\n",
       "      <th></th>\n",
       "      <th></th>\n",
       "      <th></th>\n",
       "      <th></th>\n",
       "      <th></th>\n",
       "      <th></th>\n",
       "      <th></th>\n",
       "      <th></th>\n",
       "      <th></th>\n",
       "      <th></th>\n",
       "    </tr>\n",
       "  </thead>\n",
       "  <tbody>\n",
       "    <tr>\n",
       "      <th>svc-iris-linear</th>\n",
       "      <td>iris-20test-shuffled-v1</td>\n",
       "      <td>120</td>\n",
       "      <td>30</td>\n",
       "      <td>0.966667</td>\n",
       "      <td>0 days 00:00:00.003818</td>\n",
       "      <td>0 days 00:00:00.001419</td>\n",
       "      <td>NaN</td>\n",
       "      <td>[[11  0  0]\\n [ 0 12  1]\\n [ 0  0  6]]</td>\n",
       "      <td>{'0': {'precision': 1.0, 'recall': 1.0, 'f1-sc...</td>\n",
       "      <td>linear</td>\n",
       "      <td>1.0</td>\n",
       "      <td>auto</td>\n",
       "    </tr>\n",
       "  </tbody>\n",
       "</table>\n",
       "</div>"
      ],
      "text/plain": [
       "                            dataset_name n_train_samples n_test_samples  \\\n",
       "exp_name                                                                  \n",
       "svc-iris-linear  iris-20test-shuffled-v1             120             30   \n",
       "\n",
       "                mean_accuracy              train_time              query_time  \\\n",
       "exp_name                                                                        \n",
       "svc-iris-linear      0.966667  0 days 00:00:00.003818  0 days 00:00:00.001419   \n",
       "\n",
       "                kfolds                        confusion_matrix  \\\n",
       "exp_name                                                         \n",
       "svc-iris-linear    NaN  [[11  0  0]\\n [ 0 12  1]\\n [ 0  0  6]]   \n",
       "\n",
       "                                             classification_report  kernel  \\\n",
       "exp_name                                                                     \n",
       "svc-iris-linear  {'0': {'precision': 1.0, 'recall': 1.0, 'f1-sc...  linear   \n",
       "\n",
       "                   C gamma  \n",
       "exp_name                    \n",
       "svc-iris-linear  1.0  auto  "
      ]
     },
     "execution_count": 29,
     "metadata": {},
     "output_type": "execute_result"
    }
   ],
   "source": [
    "# add custom decision tree classification specific metrics to the summary_df\n",
    "exp.update_param(\n",
    "    \"kernel\",\n",
    "    exp.estimator.named_steps[\"classifier\"].kernel,\n",
    "    add_column=True,\n",
    ")\n",
    "\n",
    "exp.update_param(\n",
    "    \"C\",\n",
    "    exp.estimator.named_steps[\"classifier\"].C,\n",
    "    add_column=True,\n",
    ")\n",
    "exp.update_param(\n",
    "    \"gamma\",\n",
    "    exp.estimator.named_steps[\"classifier\"].gamma,\n",
    "    add_column=True,\n",
    ")\n",
    "exp.summary_df"
   ]
  },
  {
   "cell_type": "code",
   "execution_count": null,
   "metadata": {},
   "outputs": [],
   "source": [
    "exp.save(overwrite_existing=False)"
   ]
  }
 ],
 "metadata": {
  "kernelspec": {
   "display_name": ".venv-py31013",
   "language": "python",
   "name": "python3"
  },
  "language_info": {
   "codemirror_mode": {
    "name": "ipython",
    "version": 3
   },
   "file_extension": ".py",
   "mimetype": "text/x-python",
   "name": "python",
   "nbconvert_exporter": "python",
   "pygments_lexer": "ipython3",
   "version": "3.10.13"
  }
 },
 "nbformat": 4,
 "nbformat_minor": 2
}
