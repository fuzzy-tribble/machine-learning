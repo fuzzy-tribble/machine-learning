{
 "cells": [
  {
   "cell_type": "markdown",
   "id": "90dff5d2",
   "metadata": {},
   "source": [
    "# Auto-EDAs using ydata-profiling"
   ]
  },
  {
   "cell_type": "code",
   "execution_count": 1,
   "id": "15072921",
   "metadata": {},
   "outputs": [],
   "source": [
    "%reload_ext autoreload\n",
    "%autoreload 2"
   ]
  },
  {
   "cell_type": "code",
   "execution_count": 9,
   "id": "e0691d4e",
   "metadata": {},
   "outputs": [],
   "source": [
    "from ucimlrepo import fetch_ucirepo\n",
    "from sklearn.datasets import load_digits, load_breast_cancer\n",
    "\n",
    "from ydata_profiling import ProfileReport\n",
    "\n",
    "from helpers.base_imports import *"
   ]
  },
  {
   "cell_type": "markdown",
   "id": "b00e36f4",
   "metadata": {},
   "source": [
    "## Gather datasets"
   ]
  },
  {
   "cell_type": "code",
   "execution_count": 10,
   "id": "46539399",
   "metadata": {},
   "outputs": [],
   "source": [
    "# Dictionary of datasets: name -> (features, target)\n",
    "datasets = {}\n",
    "\n",
    "# UCI datasets\n",
    "for name, id in [(\"abalone\", 1), (\"iris\", 53), (\"wine\", 109)]:\n",
    "    data = fetch_ucirepo(id=id).data\n",
    "    df = pd.concat([data.features, data.targets], axis=1)\n",
    "    datasets[name] = df\n",
    "\n",
    "# sklearn.datasets: Digits\n",
    "digits = load_digits(as_frame=True)\n",
    "df_digits = digits.frame  # Already includes 'target' column\n",
    "datasets[\"digits\"] = df_digits\n",
    "\n",
    "# sklearn.datasets: Breast Cancer\n",
    "bc = load_breast_cancer(as_frame=True)\n",
    "df_bc = bc.frame  # Already includes 'target' column\n",
    "datasets[\"breast_cancer\"] = df_bc"
   ]
  },
  {
   "cell_type": "markdown",
   "id": "f382793d",
   "metadata": {},
   "source": [
    "## Generate reports for each dataset"
   ]
  },
  {
   "cell_type": "code",
   "execution_count": null,
   "id": "4ec40dba",
   "metadata": {},
   "outputs": [
    {
     "data": {
      "application/vnd.jupyter.widget-view+json": {
       "model_id": "cf0e807063da4340a43c01c0a335b75c",
       "version_major": 2,
       "version_minor": 0
      },
      "text/plain": [
       "Summarize dataset:   0%|          | 0/5 [00:00<?, ?it/s]"
      ]
     },
     "metadata": {},
     "output_type": "display_data"
    },
    {
     "name": "stderr",
     "output_type": "stream",
     "text": [
      "100%|██████████| 9/9 [00:00<00:00, 541.25it/s]\n"
     ]
    },
    {
     "data": {
      "application/vnd.jupyter.widget-view+json": {
       "model_id": "429c27b00fb646079b9bc009fa3345a1",
       "version_major": 2,
       "version_minor": 0
      },
      "text/plain": [
       "Generate report structure:   0%|          | 0/1 [00:00<?, ?it/s]"
      ]
     },
     "metadata": {},
     "output_type": "display_data"
    },
    {
     "data": {
      "application/vnd.jupyter.widget-view+json": {
       "model_id": "7e71c9aeb02f4a89afb3f6212f1d37dc",
       "version_major": 2,
       "version_minor": 0
      },
      "text/plain": [
       "Render HTML:   0%|          | 0/1 [00:00<?, ?it/s]"
      ]
     },
     "metadata": {},
     "output_type": "display_data"
    },
    {
     "data": {
      "application/vnd.jupyter.widget-view+json": {
       "model_id": "b3f804eab25d4904b82a0cedbb78c95f",
       "version_major": 2,
       "version_minor": 0
      },
      "text/plain": [
       "Export report to file:   0%|          | 0/1 [00:00<?, ?it/s]"
      ]
     },
     "metadata": {},
     "output_type": "display_data"
    },
    {
     "data": {
      "application/vnd.jupyter.widget-view+json": {
       "model_id": "3c29a103363b4961b4535fc1a8be861d",
       "version_major": 2,
       "version_minor": 0
      },
      "text/plain": [
       "Summarize dataset:   0%|          | 0/5 [00:00<?, ?it/s]"
      ]
     },
     "metadata": {},
     "output_type": "display_data"
    },
    {
     "name": "stderr",
     "output_type": "stream",
     "text": [
      "100%|██████████| 5/5 [00:00<00:00, 40021.98it/s]\n"
     ]
    },
    {
     "data": {
      "application/vnd.jupyter.widget-view+json": {
       "model_id": "384be8ebd9aa45bfb8729d7bab3496a3",
       "version_major": 2,
       "version_minor": 0
      },
      "text/plain": [
       "Generate report structure:   0%|          | 0/1 [00:00<?, ?it/s]"
      ]
     },
     "metadata": {},
     "output_type": "display_data"
    },
    {
     "data": {
      "application/vnd.jupyter.widget-view+json": {
       "model_id": "d3e5b2f72c0e4723927197fe84fe6e53",
       "version_major": 2,
       "version_minor": 0
      },
      "text/plain": [
       "Render HTML:   0%|          | 0/1 [00:00<?, ?it/s]"
      ]
     },
     "metadata": {},
     "output_type": "display_data"
    },
    {
     "data": {
      "application/vnd.jupyter.widget-view+json": {
       "model_id": "c0308b596af1403588aac8470ce9a2cd",
       "version_major": 2,
       "version_minor": 0
      },
      "text/plain": [
       "Export report to file:   0%|          | 0/1 [00:00<?, ?it/s]"
      ]
     },
     "metadata": {},
     "output_type": "display_data"
    },
    {
     "data": {
      "application/vnd.jupyter.widget-view+json": {
       "model_id": "060b7879a92f44a0bea3d368c6246256",
       "version_major": 2,
       "version_minor": 0
      },
      "text/plain": [
       "Summarize dataset:   0%|          | 0/5 [00:00<?, ?it/s]"
      ]
     },
     "metadata": {},
     "output_type": "display_data"
    },
    {
     "name": "stderr",
     "output_type": "stream",
     "text": [
      "100%|██████████| 14/14 [00:00<00:00, 146070.29it/s]\n"
     ]
    },
    {
     "data": {
      "application/vnd.jupyter.widget-view+json": {
       "model_id": "0bd4b5e72aa4417c9178507fe57ae506",
       "version_major": 2,
       "version_minor": 0
      },
      "text/plain": [
       "Generate report structure:   0%|          | 0/1 [00:00<?, ?it/s]"
      ]
     },
     "metadata": {},
     "output_type": "display_data"
    },
    {
     "data": {
      "application/vnd.jupyter.widget-view+json": {
       "model_id": "07d4d75164c24d029956f458a888d319",
       "version_major": 2,
       "version_minor": 0
      },
      "text/plain": [
       "Render HTML:   0%|          | 0/1 [00:00<?, ?it/s]"
      ]
     },
     "metadata": {},
     "output_type": "display_data"
    },
    {
     "data": {
      "application/vnd.jupyter.widget-view+json": {
       "model_id": "d3733d5b1e7544f3a3befb3c4dd2f532",
       "version_major": 2,
       "version_minor": 0
      },
      "text/plain": [
       "Export report to file:   0%|          | 0/1 [00:00<?, ?it/s]"
      ]
     },
     "metadata": {},
     "output_type": "display_data"
    },
    {
     "data": {
      "application/vnd.jupyter.widget-view+json": {
       "model_id": "94d4f28fa1d74500bd7950421ea9b147",
       "version_major": 2,
       "version_minor": 0
      },
      "text/plain": [
       "Summarize dataset:   0%|          | 0/5 [00:00<?, ?it/s]"
      ]
     },
     "metadata": {},
     "output_type": "display_data"
    },
    {
     "name": "stderr",
     "output_type": "stream",
     "text": [
      "100%|██████████| 65/65 [00:00<00:00, 442580.78it/s]\n"
     ]
    },
    {
     "data": {
      "application/vnd.jupyter.widget-view+json": {
       "model_id": "3ee9fb461f1b414bb0f2dc5a76866008",
       "version_major": 2,
       "version_minor": 0
      },
      "text/plain": [
       "Generate report structure:   0%|          | 0/1 [00:00<?, ?it/s]"
      ]
     },
     "metadata": {},
     "output_type": "display_data"
    },
    {
     "data": {
      "application/vnd.jupyter.widget-view+json": {
       "model_id": "65ba0d6edc2d43d89e21629184e6735c",
       "version_major": 2,
       "version_minor": 0
      },
      "text/plain": [
       "Render HTML:   0%|          | 0/1 [00:00<?, ?it/s]"
      ]
     },
     "metadata": {},
     "output_type": "display_data"
    },
    {
     "data": {
      "application/vnd.jupyter.widget-view+json": {
       "model_id": "c2bb7973c4734f48b06b86c86b54378a",
       "version_major": 2,
       "version_minor": 0
      },
      "text/plain": [
       "Export report to file:   0%|          | 0/1 [00:00<?, ?it/s]"
      ]
     },
     "metadata": {},
     "output_type": "display_data"
    },
    {
     "data": {
      "application/vnd.jupyter.widget-view+json": {
       "model_id": "3277c04dd5ad40ac8942b4ae8d27a3df",
       "version_major": 2,
       "version_minor": 0
      },
      "text/plain": [
       "Summarize dataset:   0%|          | 0/5 [00:00<?, ?it/s]"
      ]
     },
     "metadata": {},
     "output_type": "display_data"
    },
    {
     "name": "stderr",
     "output_type": "stream",
     "text": [
      "100%|██████████| 31/31 [00:00<00:00, 372559.95it/s]\n"
     ]
    },
    {
     "data": {
      "application/vnd.jupyter.widget-view+json": {
       "model_id": "5363ec73a01b4a7688edb643ac07dc13",
       "version_major": 2,
       "version_minor": 0
      },
      "text/plain": [
       "Generate report structure:   0%|          | 0/1 [00:00<?, ?it/s]"
      ]
     },
     "metadata": {},
     "output_type": "display_data"
    },
    {
     "data": {
      "application/vnd.jupyter.widget-view+json": {
       "model_id": "48196efe5e8f4110b0be223e393c606f",
       "version_major": 2,
       "version_minor": 0
      },
      "text/plain": [
       "Render HTML:   0%|          | 0/1 [00:00<?, ?it/s]"
      ]
     },
     "metadata": {},
     "output_type": "display_data"
    },
    {
     "data": {
      "application/vnd.jupyter.widget-view+json": {
       "model_id": "c0ec656cace94b17b47182342e226200",
       "version_major": 2,
       "version_minor": 0
      },
      "text/plain": [
       "Export report to file:   0%|          | 0/1 [00:00<?, ?it/s]"
      ]
     },
     "metadata": {},
     "output_type": "display_data"
    }
   ],
   "source": [
    "# Generate annotated profile reports for each dataset\n",
    "for name, df in datasets.items():\n",
    "    profile = ProfileReport(\n",
    "        df,  # Combined DataFrame with features and target\n",
    "        title=f\"{name.replace('_', ' ').title()} EDA\",  # Title for report\n",
    "        explorative=True,  # Enables deeper analyses (interactions, clustering)\n",
    "        minimal=False,  # Set True for very large datasets\n",
    "        samples={\n",
    "            \"head\": 10,  # Show top 10 rows\n",
    "            \"tail\": 10,  # Show bottom 10 rows\n",
    "        },\n",
    "        correlations={  # Enable correlation metrics\n",
    "            \"pearson\": {\"calculate\": True},  # Linear correlation (numeric)\n",
    "            \"spearman\": {\"calculate\": True},  # Monotonic relationship\n",
    "            \"kendall\": {\"calculate\": True},  # Rank-based, noise-resistant\n",
    "            \"phi_k\": {\"calculate\": True},  # Mixed types\n",
    "            \"cramers\": {\"calculate\": True},  # For categorical associations\n",
    "        },\n",
    "        missing_diagrams={  # Visualize missing data patterns\n",
    "            \"heatmap\": True,\n",
    "            \"dendrogram\": True,\n",
    "        },\n",
    "        duplicates={\"head\": 10},  # Show top 10 duplicate rows\n",
    "        interactions={\"continuous\": True},  # Pairwise scatterplots for numerics\n",
    "        progress_bar=True,\n",
    "        sort=None,\n",
    "    )\n",
    "\n",
    "    profile.to_file(f\"data/autoeda_{name}.html\")"
   ]
  },
  {
   "cell_type": "markdown",
   "id": "59a52d4a",
   "metadata": {},
   "source": [
    "See results\n",
    "- [AutoEDA Abalone](data/autoeda_abalone.html)\n",
    "- [AutoEDA Breast Cancer](data/autoeda_breast_cancer.html)\n",
    "- [AutoEDA Iris](data/autoeda_iris.html)\n",
    "- [AutoEDA Wine](data/autoeda_wine.html)"
   ]
  },
  {
   "cell_type": "markdown",
   "id": "60e283e9",
   "metadata": {},
   "source": []
  }
 ],
 "metadata": {
  "kernelspec": {
   "display_name": ".venv-py31013",
   "language": "python",
   "name": "python3"
  },
  "language_info": {
   "codemirror_mode": {
    "name": "ipython",
    "version": 3
   },
   "file_extension": ".py",
   "mimetype": "text/x-python",
   "name": "python",
   "nbconvert_exporter": "python",
   "pygments_lexer": "ipython3",
   "version": "3.10.13"
  }
 },
 "nbformat": 4,
 "nbformat_minor": 5
}
