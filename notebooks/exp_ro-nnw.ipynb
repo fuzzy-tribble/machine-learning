{
 "cells": [
  {
   "cell_type": "markdown",
   "id": "0152b06a",
   "metadata": {},
   "source": [
    "# Randomized Optimization\n",
    "\n",
    "\n"
   ]
  },
  {
   "cell_type": "markdown",
   "id": "0e9bf165",
   "metadata": {},
   "source": [
    "Package to use non gradienty descent for NNW (mlrose, hivemlrose)\n",
    "\n",
    "implement ro algs on toy: knapsack, traveling salesman, ...\n",
    "\n",
    "Discuss what works best given the different problems"
   ]
  }
 ],
 "metadata": {
  "language_info": {
   "name": "python"
  }
 },
 "nbformat": 4,
 "nbformat_minor": 5
}
