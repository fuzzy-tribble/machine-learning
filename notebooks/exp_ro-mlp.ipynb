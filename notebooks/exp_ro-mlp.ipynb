{
 "cells": [
  {
   "cell_type": "markdown",
   "id": "0152b06a",
   "metadata": {},
   "source": [
    "# Randomized Optimization for"
   ]
  },
  {
   "cell_type": "markdown",
   "id": "97375bcc",
   "metadata": {},
   "source": [
    "Here we use mlrose-ky to solve a ML weight optimization problem. Specifically, we'll compare the performance of gradient descent and simulated annearling on a neural network trained on a toy dataset (iris)"
   ]
  },
  {
   "cell_type": "markdown",
   "id": "265e13a3",
   "metadata": {},
   "source": [
    "## Setup"
   ]
  },
  {
   "cell_type": "code",
   "execution_count": 9,
   "id": "2d7b0272",
   "metadata": {},
   "outputs": [],
   "source": [
    "import time\n",
    "import numpy as np\n",
    "import pandas as pd\n",
    "import matplotlib.pyplot as plt\n",
    "from sklearn.datasets import load_iris\n",
    "from sklearn.preprocessing import StandardScaler, OneHotEncoder\n",
    "from sklearn.model_selection import train_test_split\n",
    "import mlrose_ky as mlrose"
   ]
  },
  {
   "cell_type": "code",
   "execution_count": 2,
   "id": "a1fe102c",
   "metadata": {},
   "outputs": [
    {
     "name": "stdout",
     "output_type": "stream",
     "text": [
      "Preprocessed data shape: (150, 4) (150, 3)\n"
     ]
    }
   ],
   "source": [
    "# Load and preprocess the Iris dataset\n",
    "X, y = load_iris(return_X_y=True)\n",
    "X = StandardScaler().fit_transform(X)\n",
    "y = OneHotEncoder(sparse_output=False).fit_transform(y.reshape(-1, 1))\n",
    "print(\"Preprocessed data shape:\", X.shape, y.shape)"
   ]
  },
  {
   "cell_type": "code",
   "execution_count": 3,
   "id": "587e1a49",
   "metadata": {},
   "outputs": [
    {
     "name": "stdout",
     "output_type": "stream",
     "text": [
      "Example features (X): [[-0.90068117  1.01900435 -1.34022653 -1.3154443 ]\n",
      " [-1.14301691 -0.13197948 -1.34022653 -1.3154443 ]\n",
      " [-1.38535265  0.32841405 -1.39706395 -1.3154443 ]\n",
      " [-1.50652052  0.09821729 -1.2833891  -1.3154443 ]\n",
      " [-1.02184904  1.24920112 -1.34022653 -1.3154443 ]]\n",
      "Example targets (y): [[1. 0. 0.]\n",
      " [1. 0. 0.]\n",
      " [1. 0. 0.]\n",
      " [1. 0. 0.]\n",
      " [1. 0. 0.]]\n"
     ]
    }
   ],
   "source": [
    "# show examples of X and y (features and targets)\n",
    "print(\"Example features (X):\", X[:5])\n",
    "print(\"Example targets (y):\", y[:5])"
   ]
  },
  {
   "cell_type": "code",
   "execution_count": 4,
   "id": "4976c3df",
   "metadata": {},
   "outputs": [
    {
     "name": "stdout",
     "output_type": "stream",
     "text": [
      "Training set shape: (105, 4) (105, 3)\n",
      "Testing set shape: (45, 4) (45, 3)\n"
     ]
    }
   ],
   "source": [
    "# Split into training and testing sets\n",
    "X_train, X_test, y_train, y_test = train_test_split(X, y, test_size=0.3, random_state=1)\n",
    "print(\"Training set shape:\", X_train.shape, y_train.shape)\n",
    "print(\"Testing set shape:\", X_test.shape, y_test.shape)"
   ]
  },
  {
   "cell_type": "markdown",
   "id": "5060a294",
   "metadata": {},
   "source": [
    "## Run Experiment w/ Gradient Descent, Genetic Algorithm, and Randomized Hill Climb"
   ]
  },
  {
   "cell_type": "code",
   "execution_count": 8,
   "id": "f3505480",
   "metadata": {},
   "outputs": [],
   "source": [
    "# Run experiment\n",
    "algos = [\"gradient_descent\", \"genetic_alg\", \"random_hill_climb\"]\n",
    "results = {}\n",
    "\n",
    "for algo in algos:\n",
    "    nn = mlrose.NeuralNetwork(\n",
    "        hidden_nodes=[5],\n",
    "        activation=\"relu\",\n",
    "        algorithm=algo,\n",
    "        max_iters=1000,\n",
    "        bias=True,\n",
    "        is_classifier=True,\n",
    "        learning_rate=0.1,\n",
    "        early_stopping=True,\n",
    "        clip_max=5,\n",
    "        max_attempts=100,\n",
    "        random_state=1,\n",
    "        curve=True,\n",
    "    )\n",
    "    start = time.time()\n",
    "    nn.fit(X_train, y_train)\n",
    "    end = time.time()\n",
    "    train_preds = np.argmax(nn.predict(X_train), axis=1)\n",
    "    test_preds = np.argmax(nn.predict(X_test), axis=1)\n",
    "    train_acc = np.mean(train_preds == np.argmax(y_train, axis=1))\n",
    "    test_acc = np.mean(test_preds == np.argmax(y_test, axis=1))\n",
    "    results[algo] = {\n",
    "        \"train_acc\": train_acc,\n",
    "        \"test_acc\": test_acc,\n",
    "        \"runtime\": end - start,\n",
    "        \"curve\": nn.fitness_curve,\n",
    "    }"
   ]
  },
  {
   "cell_type": "code",
   "execution_count": 10,
   "id": "3691d1fb",
   "metadata": {},
   "outputs": [],
   "source": [
    "def print_results(results):\n",
    "    print(\"\\nResults:\")\n",
    "    for algo, res in results.items():\n",
    "        print(f\"{algo}:\")\n",
    "        print(f\"  Train Accuracy: {res['train_acc']:.4f}\")\n",
    "        print(f\"  Test Accuracy: {res['test_acc']:.4f}\")\n",
    "        print(f\"  Runtime: {res['runtime']:.2f} seconds\")"
   ]
  },
  {
   "cell_type": "code",
   "execution_count": 11,
   "id": "e1e913c4",
   "metadata": {},
   "outputs": [
    {
     "name": "stdout",
     "output_type": "stream",
     "text": [
      "\n",
      "Results:\n",
      "gradient_descent:\n",
      "  Train Accuracy: 0.4476\n",
      "  Test Accuracy: 0.5111\n",
      "  Runtime: 0.90 seconds\n",
      "genetic_alg:\n",
      "  Train Accuracy: 1.0000\n",
      "  Test Accuracy: 0.9556\n",
      "  Runtime: 90.93 seconds\n",
      "random_hill_climb:\n",
      "  Train Accuracy: 0.9714\n",
      "  Test Accuracy: 0.9111\n",
      "  Runtime: 0.64 seconds\n"
     ]
    }
   ],
   "source": [
    "print_results(results)"
   ]
  },
  {
   "cell_type": "markdown",
   "id": "4eebdc64",
   "metadata": {},
   "source": [
    "Interesting, so gradient descent is by far the fastest but the genetic algorithm and RHC both found better train and test accuracies."
   ]
  },
  {
   "cell_type": "markdown",
   "id": "7379067c",
   "metadata": {},
   "source": [
    "## Plot Results\n",
    "\n",
    "Compare accuracy, runtime, convergence, and loss also???"
   ]
  },
  {
   "cell_type": "code",
   "execution_count": null,
   "id": "31171873",
   "metadata": {},
   "outputs": [
    {
     "data": {
      "image/png": "[encoded data removed]",
      "text/plain": [
       "<Figure size 800x500 with 1 Axes>"
      ]
     },
     "metadata": {},
     "output_type": "display_data"
    }
   ],
   "source": [
    "# Plot Accuracy\n",
    "x = np.arange(len(algos))\n",
    "bar_width = 0.35\n",
    "plt.figure(figsize=(8, 5))\n",
    "plt.bar(x, [results[a][\"train_acc\"] for a in algos], width=bar_width, label=\"Train\")\n",
    "plt.bar(\n",
    "    x + bar_width,\n",
    "    [results[a][\"test_acc\"] for a in algos],\n",
    "    width=bar_width,\n",
    "    label=\"Test\",\n",
    ")\n",
    "plt.xticks(x + bar_width / 2, algos)\n",
    "plt.ylabel(\"Accuracy\")\n",
    "plt.title(\"Accuracy Comparison by Optimizer\")\n",
    "plt.legend()\n",
    "plt.tight_layout()\n",
    "plt.show()"
   ]
  },
  {
   "cell_type": "code",
   "execution_count": null,
   "id": "e087ff11",
   "metadata": {},
   "outputs": [
    {
     "data": {
      "image/png": "[encoded data removed]",
      "text/plain": [
       "<Figure size 640x480 with 1 Axes>"
      ]
     },
     "metadata": {},
     "output_type": "display_data"
    }
   ],
   "source": [
    "# Plot Runtime\n",
    "plt.figure()\n",
    "plt.bar(algos, [results[a][\"runtime\"] for a in algos])\n",
    "plt.ylabel(\"Time (s)\")\n",
    "plt.title(\"Training Time by Optimizer\")\n",
    "plt.tight_layout()\n",
    "plt.show()"
   ]
  },
  {
   "cell_type": "markdown",
   "id": "2cbb90f0",
   "metadata": {},
   "source": [
    "Overall, three randomized optimization algorithms for training a neural network on the Iris dataset were compared and demonstrated performance that aligns with expectations. \n",
    "\n",
    "Comparing gradient descent, genetic algorithm, and random hill climb against random would be a good next step along with evaluating effects of hyperparameter tuning as this nb only gets baseline performance.\n",
    "\n",
    "Also, mlrose doesn't make it easy to look at convergence curves which would be nice to see because we know based on the optimization algorithm how their convergence should look."
   ]
  },
  {
   "cell_type": "markdown",
   "id": "c7f15833",
   "metadata": {},
   "source": []
  }
 ],
 "metadata": {
  "kernelspec": {
   "display_name": ".venv-py31013",
   "language": "python",
   "name": "python3"
  },
  "language_info": {
   "codemirror_mode": {
    "name": "ipython",
    "version": 3
   },
   "file_extension": ".py",
   "mimetype": "text/x-python",
   "name": "python",
   "nbconvert_exporter": "python",
   "pygments_lexer": "ipython3",
   "version": "3.10.13"
  }
 },
 "nbformat": 4,
 "nbformat_minor": 5
}
